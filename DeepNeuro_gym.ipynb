{
 "cells": [
  {
   "cell_type": "code",
   "execution_count": 1,
   "metadata": {},
   "outputs": [
    {
     "name": "stderr",
     "output_type": "stream",
     "text": [
      "Using TensorFlow backend.\n"
     ]
    }
   ],
   "source": [
    "import os\n",
    "import numpy as np\n",
    "import gym\n",
    "import tensorflow as tf\n",
    "from time import time\n",
    "from GA.genetic_algorithm import GeneticNetworks\n",
    "\n",
    "from utils.atari_environment import AtariEnvironment\n",
    "from utils.continuous_environments import Environment\n",
    "\n",
    "from keras.backend.tensorflow_backend import set_session\n",
    "from utils.networks import get_session"
   ]
  },
  {
   "cell_type": "code",
   "execution_count": 2,
   "metadata": {},
   "outputs": [],
   "source": [
    "gym.logger.set_level(40)\n",
    "os.environ['TF_CPP_MIN_LOG_LEVEL'] = '3'"
   ]
  },
  {
   "cell_type": "code",
   "execution_count": 3,
   "metadata": {},
   "outputs": [],
   "source": [
    "tensorboard_logs = \"GA/tensorboard_gym\""
   ]
  },
  {
   "cell_type": "code",
   "execution_count": 4,
   "metadata": {},
   "outputs": [],
   "source": [
    "!mkdir GA/tensorboard_gym\n",
    "!mkdir saved_models"
   ]
  },
  {
   "cell_type": "code",
   "execution_count": 5,
   "metadata": {},
   "outputs": [],
   "source": [
    "# Clear any logs from previous runs\n",
    "import shutil\n",
    "shutil.rmtree(tensorboard_logs)"
   ]
  },
  {
   "cell_type": "code",
   "execution_count": 6,
   "metadata": {},
   "outputs": [
    {
     "name": "stdout",
     "output_type": "stream",
     "text": [
      "WARNING:tensorflow:From /home/jovyan/work/utils/networks.py:9: The name tf.ConfigProto is deprecated. Please use tf.compat.v1.ConfigProto instead.\n",
      "\n",
      "WARNING:tensorflow:From /home/jovyan/work/utils/networks.py:11: The name tf.Session is deprecated. Please use tf.compat.v1.Session instead.\n",
      "\n"
     ]
    }
   ],
   "source": [
    "set_session(get_session())\n",
    "summary_writer = tf.summary.FileWriter(tensorboard_logs)"
   ]
  },
  {
   "cell_type": "code",
   "execution_count": 7,
   "metadata": {},
   "outputs": [
    {
     "name": "stdout",
     "output_type": "stream",
     "text": [
      "observation_space  (6,)\n",
      "action_space  Discrete(3)\n",
      "3 6 Acrobot-v1\n"
     ]
    }
   ],
   "source": [
    "env_name = 'Acrobot-v1'\n",
    "\n",
    "args = {\n",
    "    'gym_env': gym.make(env_name),\n",
    "    'action_repeat': 4\n",
    "}\n",
    "env = Environment(**args)\n",
    "print('observation_space ', env.get_state_size())\n",
    "print('action_space ', gym.make(env_name).action_space)\n",
    "\n",
    "action_dim = gym.make(env_name).action_space.n\n",
    "space_dim = env.get_state_size()[0]\n",
    "\n",
    "print(action_dim, space_dim, env_name)"
   ]
  },
  {
   "cell_type": "code",
   "execution_count": 9,
   "metadata": {},
   "outputs": [
    {
     "name": "stdout",
     "output_type": "stream",
     "text": [
      "--------------------------------------------------\n",
      "Logging params: \n",
      "population_size 64\n",
      "generations 200\n",
      "mutation_variance 0.1\n",
      "survival_ratio 0.1\n",
      "both_parent_percentage 0.8\n",
      "one_parent_percentage 0.1\n",
      "episodes 15\n",
      "--------------------------------------------------\n"
     ]
    }
   ],
   "source": [
    "genetic_pop = GeneticNetworks(architecture=(space_dim * args['action_repeat'],16,action_dim),\n",
    "                                population_size=64, \n",
    "                                generations=200,\n",
    "                                episodes=15, \n",
    "                                mutation_variance=0.1,\n",
    "                                render_env=False,\n",
    "                                verbose=True)"
   ]
  },
  {
   "cell_type": "markdown",
   "metadata": {},
   "source": [
    "## Train"
   ]
  },
  {
   "cell_type": "code",
   "execution_count": 10,
   "metadata": {
    "scrolled": true
   },
   "outputs": [
    {
     "name": "stderr",
     "output_type": "stream",
     "text": [
      "Generation:   0%|          | 0/200 [00:00<?, ? gen/s]"
     ]
    },
    {
     "name": "stdout",
     "output_type": "stream",
     "text": [
      "WARNING:tensorflow:From /home/jovyan/work/utils/networks.py:16: The name tf.Summary is deprecated. Please use tf.compat.v1.Summary instead.\n",
      "\n"
     ]
    },
    {
     "name": "stderr",
     "output_type": "stream",
     "text": [
      "Generation:10| Highest Reward:-78.33333333333333| Average Reward:-90.37916666666666| std Reward: 9.091570233219098| Stagnation: 11| Population size: 64:   5%|▌         | 10/200 [03:38<48:22, 15.28s/ gen]  "
     ]
    },
    {
     "name": "stdout",
     "output_type": "stream",
     "text": [
      "CPU times: user 847 ms, sys: 405 ms, total: 1.25 s\n",
      "Wall time: 3min 38s\n"
     ]
    },
    {
     "data": {
      "text/plain": [
       "[{'max': -85.13333333333334,\n",
       "  'mean': -431.37395833333335,\n",
       "  'std': 130.73999091559313},\n",
       " {'max': -96.06666666666666,\n",
       "  'mean': -355.6177083333333,\n",
       "  'std': 156.6647292620399},\n",
       " {'max': -82.53333333333333,\n",
       "  'mean': -431.52083333333337,\n",
       "  'std': 141.69451288825155},\n",
       " {'max': -84.33333333333333,\n",
       "  'mean': -390.0864583333333,\n",
       "  'std': 150.21309570799352},\n",
       " {'max': -106.8, 'mean': -425.1645833333333, 'std': 134.22817066925734},\n",
       " {'max': -82.6, 'mean': -216.8875, 'std': 155.31468185366623},\n",
       " {'max': -85.8, 'mean': -408.703125, 'std': 150.4872004199506},\n",
       " {'max': -75.2, 'mean': -111.39791666666667, 'std': 39.63793246505381},\n",
       " {'max': -80.46666666666667,\n",
       "  'mean': -161.07083333333333,\n",
       "  'std': 113.65295669700909},\n",
       " {'max': -78.33333333333333,\n",
       "  'mean': -90.37916666666666,\n",
       "  'std': 9.091570233219098}]"
      ]
     },
     "execution_count": 10,
     "metadata": {},
     "output_type": "execute_result"
    }
   ],
   "source": [
    "%%time\n",
    "genetic_pop.fit(env, summary_writer, num_cpus=4, env_args=args)"
   ]
  },
  {
   "cell_type": "code",
   "execution_count": 13,
   "metadata": {},
   "outputs": [
    {
     "name": "stdout",
     "output_type": "stream",
     "text": [
      "          max        mean         std\n",
      "0  -85.133333 -431.373958  130.739991\n",
      "1  -96.066667 -355.617708  156.664729\n",
      "2  -82.533333 -431.520833  141.694513\n",
      "3  -84.333333 -390.086458  150.213096\n",
      "4 -106.800000 -425.164583  134.228171\n",
      "5  -82.600000 -216.887500  155.314682\n",
      "6  -85.800000 -408.703125  150.487200\n",
      "7  -75.200000 -111.397917   39.637932\n",
      "8  -80.466667 -161.070833  113.652957\n",
      "9  -78.333333  -90.379167    9.091570\n"
     ]
    },
    {
     "data": {
      "image/png": "[encoded data removed]",
      "text/plain": [
       "<Figure size 432x288 with 1 Axes>"
      ]
     },
     "metadata": {},
     "output_type": "display_data"
    }
   ],
   "source": [
    "import matplotlib.pyplot as plt\n",
    "import pandas as pd\n",
    "\n",
    "df = pd.DataFrame(genetic_pop.global_info)\n",
    "print(df)\n",
    "\n",
    "fig = plt.figure(facecolor='white')\n",
    "ax = fig.add_subplot(111)\n",
    "ax.plot(df['max'], label='max')\n",
    "plt.plot(df['mean'], label='mean')\n",
    "plt.legend()\n",
    "plt.show()"
   ]
  },
  {
   "cell_type": "markdown",
   "metadata": {},
   "source": [
    "## Evaluate"
   ]
  },
  {
   "cell_type": "code",
   "execution_count": 16,
   "metadata": {},
   "outputs": [
    {
     "data": {
      "text/plain": [
       "-100.33333333333333"
      ]
     },
     "execution_count": 16,
     "metadata": {},
     "output_type": "execute_result"
    }
   ],
   "source": [
    "# Lets observe our best network\n",
    "genetic_pop.best_network.evaluate(env, episodes=3, render_env=False, record=False)"
   ]
  },
  {
   "cell_type": "code",
   "execution_count": null,
   "metadata": {},
   "outputs": [],
   "source": []
  }
 ],
 "metadata": {
  "kernelspec": {
   "display_name": "Python 3",
   "language": "python",
   "name": "python3"
  },
  "language_info": {
   "codemirror_mode": {
    "name": "ipython",
    "version": 3
   },
   "file_extension": ".py",
   "mimetype": "text/x-python",
   "name": "python",
   "nbconvert_exporter": "python",
   "pygments_lexer": "ipython3",
   "version": "3.7.6"
  },
  "widgets": {
   "application/vnd.jupyter.widget-state+json": {
    "state": {},
    "version_major": 2,
    "version_minor": 0
   }
  }
 },
 "nbformat": 4,
 "nbformat_minor": 4
}
