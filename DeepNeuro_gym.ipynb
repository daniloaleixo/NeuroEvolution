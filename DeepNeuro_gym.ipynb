{
 "cells": [
  {
   "cell_type": "code",
   "execution_count": 1,
   "metadata": {},
   "outputs": [
    {
     "name": "stderr",
     "output_type": "stream",
     "text": [
      "Using TensorFlow backend.\n"
     ]
    }
   ],
   "source": [
    "import os\n",
    "import numpy as np\n",
    "import gym\n",
    "import tensorflow as tf\n",
    "from time import time\n",
    "from GA.genetic_algorithm import GeneticNetworks\n",
    "\n",
    "from utils.atari_environment import AtariEnvironment\n",
    "from utils.continuous_environments import Environment\n",
    "\n",
    "from keras.backend.tensorflow_backend import set_session\n",
    "from utils.networks import get_session"
   ]
  },
  {
   "cell_type": "code",
   "execution_count": 2,
   "metadata": {},
   "outputs": [],
   "source": [
    "gym.logger.set_level(40)\n",
    "os.environ['TF_CPP_MIN_LOG_LEVEL'] = '3'"
   ]
  },
  {
   "cell_type": "code",
   "execution_count": 3,
   "metadata": {},
   "outputs": [],
   "source": [
    "tensorboard_logs = \"GA/tensorboard_gym\""
   ]
  },
  {
   "cell_type": "code",
   "execution_count": 4,
   "metadata": {},
   "outputs": [
    {
     "name": "stdout",
     "output_type": "stream",
     "text": [
      "mkdir: cannot create directory ‘GA/tensorboard_gym’: File exists\n",
      "mkdir: cannot create directory ‘saved_models’: File exists\n"
     ]
    }
   ],
   "source": [
    "!mkdir GA/tensorboard_gym\n",
    "!mkdir saved_models"
   ]
  },
  {
   "cell_type": "code",
   "execution_count": 5,
   "metadata": {},
   "outputs": [],
   "source": [
    "# Clear any logs from previous runs\n",
    "import shutil\n",
    "shutil.rmtree(tensorboard_logs)"
   ]
  },
  {
   "cell_type": "code",
   "execution_count": 6,
   "metadata": {},
   "outputs": [
    {
     "name": "stdout",
     "output_type": "stream",
     "text": [
      "WARNING:tensorflow:From /home/jovyan/work/utils/networks.py:9: The name tf.ConfigProto is deprecated. Please use tf.compat.v1.ConfigProto instead.\n",
      "\n",
      "WARNING:tensorflow:From /home/jovyan/work/utils/networks.py:11: The name tf.Session is deprecated. Please use tf.compat.v1.Session instead.\n",
      "\n"
     ]
    }
   ],
   "source": [
    "set_session(get_session())\n",
    "summary_writer = tf.summary.FileWriter(tensorboard_logs)"
   ]
  },
  {
   "cell_type": "code",
   "execution_count": 7,
   "metadata": {},
   "outputs": [
    {
     "name": "stdout",
     "output_type": "stream",
     "text": [
      "observation_space  (6,)\n",
      "action_space  Discrete(3)\n",
      "3 6 Acrobot-v1\n"
     ]
    }
   ],
   "source": [
    "env_name = 'Acrobot-v1'\n",
    "\n",
    "args = {\n",
    "    'gym_env': gym.make(env_name),\n",
    "    'action_repeat': 4\n",
    "}\n",
    "env = Environment(**args)\n",
    "print('observation_space ', env.get_state_size())\n",
    "print('action_space ', gym.make(env_name).action_space)\n",
    "\n",
    "action_dim = gym.make(env_name).action_space.n\n",
    "space_dim = env.get_state_size()[0]\n",
    "\n",
    "print(action_dim, space_dim, env_name)"
   ]
  },
  {
   "cell_type": "code",
   "execution_count": 13,
   "metadata": {},
   "outputs": [
    {
     "name": "stdout",
     "output_type": "stream",
     "text": [
      "--------------------------------------------------\n",
      "Logging params: \n",
      "population_size 64\n",
      "generations 20\n",
      "mutation_variance 0.1\n",
      "survival_ratio 0.1\n",
      "both_parent_percentage 0.8\n",
      "one_parent_percentage 0.1\n",
      "episodes 15\n",
      "--------------------------------------------------\n"
     ]
    }
   ],
   "source": [
    "genetic_pop = GeneticNetworks(architecture=(space_dim * args['action_repeat'],16,action_dim),\n",
    "                                population_size=64, \n",
    "                                generations=20,\n",
    "                                episodes=15, \n",
    "                                mutation_variance=0.1,\n",
    "                                render_env=False,\n",
    "                                verbose=True)"
   ]
  },
  {
   "cell_type": "markdown",
   "metadata": {},
   "source": [
    "## Train"
   ]
  },
  {
   "cell_type": "code",
   "execution_count": 14,
   "metadata": {
    "scrolled": true
   },
   "outputs": [
    {
     "name": "stderr",
     "output_type": "stream",
     "text": [
      "\n",
      "Generation:   0%|          | 0/20 [00:00<?, ? gen/s]\u001b[A\n",
      "Generation:1| Highest Reward:-112.93333333333334| Average Reward:-450.53229166666665| std Reward: 110.34287061762147| Stagnation: 2| Population size: 64:   0%|          | 0/20 [00:30<?, ? gen/s]\u001b[A\n",
      "Generation:1| Highest Reward:-112.93333333333334| Average Reward:-450.53229166666665| std Reward: 110.34287061762147| Stagnation: 2| Population size: 64:   5%|▌         | 1/20 [00:30<09:42, 30.65s/ gen]\u001b[A\n",
      "Generation:1| Highest Reward:-112.93333333333334| Average Reward:-450.53229166666665| std Reward: 110.34287061762147| Stagnation: 2| Population size: 64:   5%|▌         | 1/20 [00:30<09:42, 30.65s/ gen]\u001b[A\n",
      "Generation:2| Highest Reward:-130.86666666666667| Average Reward:-400.1541666666667| std Reward: 144.09013425003963| Stagnation: 3| Population size: 64:   5%|▌         | 1/20 [00:57<09:42, 30.65s/ gen] \u001b[A\n",
      "Generation:2| Highest Reward:-130.86666666666667| Average Reward:-400.1541666666667| std Reward: 144.09013425003963| Stagnation: 3| Population size: 64:  10%|█         | 2/20 [00:57<08:48, 29.36s/ gen]\u001b[A\n",
      "Generation:2| Highest Reward:-130.86666666666667| Average Reward:-400.1541666666667| std Reward: 144.09013425003963| Stagnation: 3| Population size: 64:  10%|█         | 2/20 [00:57<08:48, 29.36s/ gen]\u001b[A\n",
      "Generation:3| Highest Reward:-109.46666666666667| Average Reward:-376.4083333333333| std Reward: 133.9051216243136| Stagnation: 4| Population size: 64:  10%|█         | 2/20 [01:22<08:48, 29.36s/ gen] \u001b[A\n",
      "Generation:3| Highest Reward:-109.46666666666667| Average Reward:-376.4083333333333| std Reward: 133.9051216243136| Stagnation: 4| Population size: 64:  15%|█▌        | 3/20 [01:22<08:00, 28.24s/ gen]\u001b[A\n",
      "Generation:3| Highest Reward:-109.46666666666667| Average Reward:-376.4083333333333| std Reward: 133.9051216243136| Stagnation: 4| Population size: 64:  15%|█▌        | 3/20 [01:22<08:00, 28.24s/ gen]\u001b[A\n",
      "Generation:4| Highest Reward:-110.0| Average Reward:-287.1541666666667| std Reward: 88.86145417555603| Stagnation: 5| Population size: 64:  15%|█▌        | 3/20 [01:42<08:00, 28.24s/ gen]             \u001b[A\n",
      "Generation:4| Highest Reward:-110.0| Average Reward:-287.1541666666667| std Reward: 88.86145417555603| Stagnation: 5| Population size: 64:  20%|██        | 4/20 [01:42<06:52, 25.78s/ gen]\u001b[A\n",
      "Generation:4| Highest Reward:-110.0| Average Reward:-287.1541666666667| std Reward: 88.86145417555603| Stagnation: 5| Population size: 64:  20%|██        | 4/20 [01:42<06:52, 25.78s/ gen]\u001b[A\n",
      "Generation:5| Highest Reward:-138.2| Average Reward:-460.40729166666665| std Reward: 92.51878346613633| Stagnation: 6| Population size: 64:  20%|██        | 4/20 [02:14<06:52, 25.78s/ gen]\u001b[A\n",
      "Generation:5| Highest Reward:-138.2| Average Reward:-460.40729166666665| std Reward: 92.51878346613633| Stagnation: 6| Population size: 64:  25%|██▌       | 5/20 [02:14<06:55, 27.67s/ gen]\u001b[A\n",
      "Generation:5| Highest Reward:-138.2| Average Reward:-460.40729166666665| std Reward: 92.51878346613633| Stagnation: 6| Population size: 64:  25%|██▌       | 5/20 [02:14<06:55, 27.67s/ gen]\u001b[A\n",
      "Generation:6| Highest Reward:-134.46666666666667| Average Reward:-422.91041666666666| std Reward: 119.242461454447| Stagnation: 7| Population size: 64:  25%|██▌       | 5/20 [02:47<06:55, 27.67s/ gen]\u001b[A\n",
      "Generation:6| Highest Reward:-134.46666666666667| Average Reward:-422.91041666666666| std Reward: 119.242461454447| Stagnation: 7| Population size: 64:  30%|███       | 6/20 [02:47<06:48, 29.20s/ gen]\u001b[A\n",
      "Generation:6| Highest Reward:-134.46666666666667| Average Reward:-422.91041666666666| std Reward: 119.242461454447| Stagnation: 7| Population size: 64:  30%|███       | 6/20 [02:47<06:48, 29.20s/ gen]\u001b[A\n",
      "Generation:7| Highest Reward:-138.0| Average Reward:-417.37395833333335| std Reward: 128.90989726742575| Stagnation: 8| Population size: 64:  30%|███       | 6/20 [03:18<06:48, 29.20s/ gen]           \u001b[A\n",
      "Generation:7| Highest Reward:-138.0| Average Reward:-417.37395833333335| std Reward: 128.90989726742575| Stagnation: 8| Population size: 64:  35%|███▌      | 7/20 [03:18<06:25, 29.64s/ gen]\u001b[A\n",
      "Generation:7| Highest Reward:-138.0| Average Reward:-417.37395833333335| std Reward: 128.90989726742575| Stagnation: 8| Population size: 64:  35%|███▌      | 7/20 [03:18<06:25, 29.64s/ gen]\u001b[A\n",
      "Generation:8| Highest Reward:-138.0| Average Reward:-433.88541666666663| std Reward: 114.80713807944632| Stagnation: 9| Population size: 64:  35%|███▌      | 7/20 [03:48<06:25, 29.64s/ gen]\u001b[A\n",
      "Generation:8| Highest Reward:-138.0| Average Reward:-433.88541666666663| std Reward: 114.80713807944632| Stagnation: 9| Population size: 64:  40%|████      | 8/20 [03:48<05:58, 29.89s/ gen]\u001b[A\n",
      "Generation:8| Highest Reward:-138.0| Average Reward:-433.88541666666663| std Reward: 114.80713807944632| Stagnation: 9| Population size: 64:  40%|████      | 8/20 [03:48<05:58, 29.89s/ gen]\u001b[A\n",
      "Generation:9| Highest Reward:-91.46666666666667| Average Reward:-345.9083333333333| std Reward: 160.29146001199746| Stagnation: 10| Population size: 64:  40%|████      | 8/20 [04:14<05:58, 29.89s/ gen]\u001b[A\n",
      "Generation:9| Highest Reward:-91.46666666666667| Average Reward:-345.9083333333333| std Reward: 160.29146001199746| Stagnation: 10| Population size: 64:  45%|████▌     | 9/20 [04:14<05:14, 28.58s/ gen]\u001b[A\n",
      "Generation:9| Highest Reward:-91.46666666666667| Average Reward:-345.9083333333333| std Reward: 160.29146001199746| Stagnation: 10| Population size: 64:  45%|████▌     | 9/20 [04:14<05:14, 28.58s/ gen]\u001b[A\n",
      "Generation:10| Highest Reward:-91.46666666666667| Average Reward:-406.2375| std Reward: 133.4929216158212| Stagnation: 11| Population size: 64:  45%|████▌     | 9/20 [04:43<05:14, 28.58s/ gen]         \u001b[A\n",
      "Generation:10| Highest Reward:-91.46666666666667| Average Reward:-406.2375| std Reward: 133.4929216158212| Stagnation: 11| Population size: 64:  50%|█████     | 10/20 [04:43<04:49, 28.93s/ gen]\u001b[A\n",
      "Generation:10| Highest Reward:-91.46666666666667| Average Reward:-406.2375| std Reward: 133.4929216158212| Stagnation: 11| Population size: 64:  50%|█████     | 10/20 [04:43<04:49, 28.93s/ gen]\u001b[A"
     ]
    },
    {
     "name": "stdout",
     "output_type": "stream",
     "text": [
      "CPU times: user 999 ms, sys: 439 ms, total: 1.44 s\n",
      "Wall time: 4min 43s\n"
     ]
    },
    {
     "data": {
      "text/plain": [
       "[{'max': -112.93333333333334,\n",
       "  'mean': -450.53229166666665,\n",
       "  'std': 110.34287061762147},\n",
       " {'max': -130.86666666666667,\n",
       "  'mean': -400.1541666666667,\n",
       "  'std': 144.09013425003963},\n",
       " {'max': -109.46666666666667,\n",
       "  'mean': -376.4083333333333,\n",
       "  'std': 133.9051216243136},\n",
       " {'max': -110.0, 'mean': -287.1541666666667, 'std': 88.86145417555603},\n",
       " {'max': -138.2, 'mean': -460.40729166666665, 'std': 92.51878346613633},\n",
       " {'max': -134.46666666666667,\n",
       "  'mean': -422.91041666666666,\n",
       "  'std': 119.242461454447},\n",
       " {'max': -138.0, 'mean': -417.37395833333335, 'std': 128.90989726742575},\n",
       " {'max': -138.0, 'mean': -433.88541666666663, 'std': 114.80713807944632},\n",
       " {'max': -91.46666666666667,\n",
       "  'mean': -345.9083333333333,\n",
       "  'std': 160.29146001199746},\n",
       " {'max': -91.46666666666667, 'mean': -406.2375, 'std': 133.4929216158212}]"
      ]
     },
     "execution_count": 14,
     "metadata": {},
     "output_type": "execute_result"
    }
   ],
   "source": [
    "%%time\n",
    "genetic_pop.fit(env, summary_writer, num_cpus=4, env_args=args)"
   ]
  },
  {
   "cell_type": "code",
   "execution_count": 15,
   "metadata": {},
   "outputs": [
    {
     "name": "stdout",
     "output_type": "stream",
     "text": [
      "          max        mean         std\n",
      "0 -112.933333 -450.532292  110.342871\n",
      "1 -130.866667 -400.154167  144.090134\n",
      "2 -109.466667 -376.408333  133.905122\n",
      "3 -110.000000 -287.154167   88.861454\n",
      "4 -138.200000 -460.407292   92.518783\n",
      "5 -134.466667 -422.910417  119.242461\n",
      "6 -138.000000 -417.373958  128.909897\n",
      "7 -138.000000 -433.885417  114.807138\n",
      "8  -91.466667 -345.908333  160.291460\n",
      "9  -91.466667 -406.237500  133.492922\n"
     ]
    },
    {
     "data": {
      "image/png": "[encoded data removed]",
      "text/plain": [
       "<Figure size 432x288 with 1 Axes>"
      ]
     },
     "metadata": {},
     "output_type": "display_data"
    }
   ],
   "source": [
    "import matplotlib.pyplot as plt\n",
    "import pandas as pd\n",
    "\n",
    "df = pd.DataFrame(genetic_pop.global_info)\n",
    "print(df)\n",
    "\n",
    "fig = plt.figure(facecolor='white')\n",
    "ax = fig.add_subplot(111)\n",
    "ax.plot(df['max'], label='max')\n",
    "plt.plot(df['mean'], label='mean')\n",
    "plt.legend()\n",
    "plt.show()"
   ]
  },
  {
   "cell_type": "markdown",
   "metadata": {},
   "source": [
    "## Evaluate"
   ]
  },
  {
   "cell_type": "code",
   "execution_count": 16,
   "metadata": {},
   "outputs": [
    {
     "data": {
      "text/plain": [
       "-247.33333333333334"
      ]
     },
     "execution_count": 16,
     "metadata": {},
     "output_type": "execute_result"
    }
   ],
   "source": [
    "# Lets observe our best network\n",
    "genetic_pop.best_network.evaluate(env, episodes=3, render_env=False, record=False)"
   ]
  },
  {
   "cell_type": "code",
   "execution_count": null,
   "metadata": {},
   "outputs": [],
   "source": []
  }
 ],
 "metadata": {
  "kernelspec": {
   "display_name": "Python 3",
   "language": "python",
   "name": "python3"
  },
  "language_info": {
   "codemirror_mode": {
    "name": "ipython",
    "version": 3
   },
   "file_extension": ".py",
   "mimetype": "text/x-python",
   "name": "python",
   "nbconvert_exporter": "python",
   "pygments_lexer": "ipython3",
   "version": "3.7.6"
  },
  "widgets": {
   "application/vnd.jupyter.widget-state+json": {
    "state": {},
    "version_major": 2,
    "version_minor": 0
   }
  }
 },
 "nbformat": 4,
 "nbformat_minor": 4
}
